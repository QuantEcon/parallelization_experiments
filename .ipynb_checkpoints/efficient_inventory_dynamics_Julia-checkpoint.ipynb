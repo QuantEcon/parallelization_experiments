{
 "cells": [
  {
   "cell_type": "markdown",
   "metadata": {},
   "source": [
    "## Simulation in the Inventory Model ( Julia )"
   ]
  },
  {
   "cell_type": "markdown",
   "metadata": {},
   "source": [
    "This code simulates the inventory of a firm many times.\n",
    "\n",
    "It generates a matrix with `num_paths` rows and `sim_length` columns.\n",
    "\n",
    "One simulation of inventory dynamics corresponds to one row.  \n",
    "\n",
    "The question is: how well does naive parallelization work?"
   ]
  },
  {
   "cell_type": "code",
   "execution_count": 1,
   "metadata": {
    "collapsed": true
   },
   "outputs": [],
   "source": [
    "addprocs(3)\n",
    "@everywhere using Distributions"
   ]
  },
  {
   "cell_type": "code",
   "execution_count": 2,
   "metadata": {
    "collapsed": true
   },
   "outputs": [],
   "source": [
    "@everywhere mutable struct SP\n",
    "    s::Float64\n",
    "    S::Float64\n",
    "    p::Float64\n",
    "end\n",
    "\n",
    "\n",
    "@everywhere function SP()\n",
    "    \n",
    "    s = 10.0\n",
    "    S = 100.0\n",
    "    p = 0.4\n",
    "    SP(s, S, p)   \n",
    "end"
   ]
  },
  {
   "cell_type": "markdown",
   "metadata": {},
   "source": [
    "## Sequential:"
   ]
  },
  {
   "cell_type": "code",
   "execution_count": 3,
   "metadata": {},
   "outputs": [
    {
     "data": {
      "text/plain": [
       "sim_paths (generic function with 1 method)"
      ]
     },
     "execution_count": 3,
     "metadata": {},
     "output_type": "execute_result"
    }
   ],
   "source": [
    "function sim_paths(sp::SP;initial_x=50.0, num_paths=100000,sim_length=400)\n",
    "    \n",
    "    X = Array{Int32}(num_paths,sim_length)\n",
    "    X[:, 1] = initial_x\n",
    "    \n",
    "    # For each row\n",
    "    for i = 1:num_paths\n",
    "        \n",
    "        dvals = rand(Geometric(sp.p),sim_length)\n",
    "        for t = 1:sim_length-1\n",
    "            x, d = X[i, t], dvals[t]\n",
    "            if x <= sp.s\n",
    "                y = max(sp.S - d, 0)\n",
    "            else\n",
    "                y = max(x - d, 0)\n",
    "            end\n",
    "            \n",
    "            X[i, t+1] = y\n",
    "            \n",
    "            end\n",
    "        end\n",
    "       return X\n",
    "    \n",
    "end"
   ]
  },
  {
   "cell_type": "code",
   "execution_count": 4,
   "metadata": {
    "collapsed": true
   },
   "outputs": [],
   "source": [
    "sp = SP();"
   ]
  },
  {
   "cell_type": "markdown",
   "metadata": {},
   "source": [
    "compilation time:"
   ]
  },
  {
   "cell_type": "code",
   "execution_count": 5,
   "metadata": {},
   "outputs": [
    {
     "name": "stdout",
     "output_type": "stream",
     "text": [
      "  2.418546 seconds (40.49 M allocations: 1.062 GiB, 9.73% gc time)\n"
     ]
    }
   ],
   "source": [
    "@time X = sim_paths(sp);"
   ]
  },
  {
   "cell_type": "markdown",
   "metadata": {},
   "source": [
    "running time:"
   ]
  },
  {
   "cell_type": "code",
   "execution_count": 6,
   "metadata": {},
   "outputs": [
    {
     "name": "stdout",
     "output_type": "stream",
     "text": [
      "  2.256507 seconds (40.46 M allocations: 1.060 GiB, 7.80% gc time)\n"
     ]
    },
    {
     "data": {
      "text/plain": [
       "100000×400 Array{Int32,2}:\n",
       " 50  50  45  41  39  39  32  32  29  26  …  53  52  52  52  52   52   49  49\n",
       " 50  50  50  47  47  47  37  36  35  34     40  38  36  36  35   35   34  31\n",
       " 50  50  50  44  42  42  38  38  38  38     35  35  35  31  31   29   28  26\n",
       " 50  49  49  48  48  47  47  46  44  44     41  40  39  35  34   34   29  28\n",
       " 50  49  44  43  42  40  37  35  33  30     50  49  49  48  48   48   44  42\n",
       " 50  49  40  39  38  38  33  30  28  28  …  19  18  14  13  10  100  100  99\n",
       " 50  47  47  47  45  44  44  44  43  43     81  81  78  77  76   76   76  75\n",
       " 50  49  49  46  45  43  43  43  38  37     42  40  40  38  37   37   36  36\n",
       " 50  49  45  45  45  45  44  42  42  41     75  71  71  68  67   63   61  61\n",
       " 50  48  48  48  47  43  38  38  36  36     81  81  81  79  78   78   78  78\n",
       " 50  50  50  48  48  46  40  39  38  36  …  34  34  32  31  31   30   25  24\n",
       " 50  39  39  38  38  37  35  33  31  31     46  46  46  46  44   42   40  38\n",
       " 50  48  45  45  45  45  41  40  37  34     87  87  85  83  83   74   73  73\n",
       "  ⋮                   ⋮                  ⋱               ⋮                  \n",
       " 50  45  41  35  32  30  30  30  30  30     17  15  15  15   9   97   97  97\n",
       " 50  50  48  48  44  44  37  37  36  35     58  57  57  55  52   50   48  48\n",
       " 50  50  49  47  44  42  42  35  35  35  …  29  28  26  26  25   24   23  22\n",
       " 50  50  50  50  47  45  43  43  41  41     58  57  57  57  56   56   56  55\n",
       " 50  44  43  43  37  35  34  32  30  29     30  30  28  28  26   23   21  21\n",
       " 50  48  48  48  47  47  47  47  47  46     33  32  32  28  24   23   23  20\n",
       " 50  49  48  48  44  44  44  43  42  42     98  96  96  96  93   93   92  92\n",
       " 50  49  49  48  47  47  47  31  29  28  …  49  47  47  46  45   42   40  38\n",
       " 50  49  49  47  47  45  44  42  42  37     64  63  60  60  58   56   56  56\n",
       " 50  50  46  46  45  41  41  41  41  40     31  31  30  30  28   28   25  21\n",
       " 50  47  47  47  44  42  41  41  40  36     20  17  14  12  12   12   12  11\n",
       " 50  50  47  45  45  44  42  41  33  33     36  34  33  26  26   22   22  20"
      ]
     },
     "execution_count": 6,
     "metadata": {},
     "output_type": "execute_result"
    }
   ],
   "source": [
    "@time X = sim_paths(sp)"
   ]
  },
  {
   "cell_type": "markdown",
   "metadata": {},
   "source": [
    "## Parallel:"
   ]
  },
  {
   "cell_type": "code",
   "execution_count": 7,
   "metadata": {
    "collapsed": true
   },
   "outputs": [],
   "source": [
    "@everywhere function sim_paths(sp::SP;initial_x=50.0, \n",
    "                                num_paths=100000, sim_length=400)\n",
    "    \n",
    "    X = SharedArray{Int32}(num_paths,sim_length)\n",
    "    X[:, 1] = initial_x\n",
    "    \n",
    "    # For each row\n",
    "    @sync @parallel for i=1:num_paths\n",
    "        dvals = rand(Geometric(sp.p),sim_length)\n",
    "        \n",
    "        for t=1:sim_length-1\n",
    "            x, d = X[i, t], dvals[t]\n",
    "            \n",
    "            if x <= sp.s\n",
    "                y = max(sp.S - d, 0)\n",
    "            else\n",
    "                y = max(x - d, 0)\n",
    "            end\n",
    "        \n",
    "            X[i, t+1] = y\n",
    "            \n",
    "        end\n",
    "    end\n",
    "    \n",
    "    return X  \n",
    "end"
   ]
  },
  {
   "cell_type": "markdown",
   "metadata": {},
   "source": [
    "compilation time:"
   ]
  },
  {
   "cell_type": "code",
   "execution_count": 8,
   "metadata": {},
   "outputs": [
    {
     "name": "stdout",
     "output_type": "stream",
     "text": [
      "  3.585349 seconds (1.44 M allocations: 80.589 MiB, 0.92% gc time)\n"
     ]
    }
   ],
   "source": [
    "@time X = sim_paths(sp);"
   ]
  },
  {
   "cell_type": "markdown",
   "metadata": {},
   "source": [
    "running time:"
   ]
  },
  {
   "cell_type": "code",
   "execution_count": 9,
   "metadata": {},
   "outputs": [
    {
     "name": "stdout",
     "output_type": "stream",
     "text": [
      "  0.753148 seconds (2.50 k allocations: 129.229 KiB)\n"
     ]
    },
    {
     "data": {
      "text/plain": [
       "100000×400 SharedArray{Int32,2}:\n",
       " 50  50  43  43  43  43  42  42  39  39  …   12   11   9   99   99   97   95\n",
       " 50  49  48  48  46  46  46  46  46  44      87   84  84   81   81   81   79\n",
       " 50  50  49  39  38  36  36  36  36  32     100   98  97   96   95   95   95\n",
       " 50  50  46  46  43  43  42  41  40  40      21   18  17   14   14   13   13\n",
       " 50  49  47  46  45  41  41  41  39  38      48   48  46   46   46   45   45\n",
       " 50  50  50  50  50  48  46  46  43  43  …   64   64  64   64   64   61   61\n",
       " 50  44  44  43  42  39  39  39  39  35      42   42  42   42   36   36   36\n",
       " 50  49  44  42  42  38  37  37  37  37      94   93  92   91   90   90   90\n",
       " 50  49  47  46  38  38  37  35  35  31      40   37  34   34   28   27   24\n",
       " 50  50  46  44  44  42  42  40  39  38       6  100  98   98   97   96   96\n",
       " 50  46  45  43  39  37  37  36  36  33  …   71   71  69   69   68   64   63\n",
       " 50  50  50  49  48  48  47  47  44  43      30   30  30   30   27   26   26\n",
       " 50  50  48  48  45  42  42  40  40  37      63   63  62   62   60   59   58\n",
       "  ⋮                   ⋮                  ⋱             ⋮                    \n",
       " 50  48  48  48  48  47  43  40  38  38      73   73  73   68   67   66   65\n",
       " 50  49  49  48  48  48  46  45  45  45      13   12   7  100  100  100  100\n",
       " 50  48  46  43  43  42  42  38  33  32  …   55   50  48   47   41   40   40\n",
       " 50  50  46  46  42  40  40  40  39  39      15   15  11    8   98   97   97\n",
       " 50  49  48  48  47  47  47  46  42  40      78   77  76   74   72   72   70\n",
       " 50  49  43  40  39  38  37  37  36  32      12   12  10  100   98   97   90\n",
       " 50  50  44  44  41  41  39  39  39  39      35   35  34   33   32   32   31\n",
       " 50  47  47  45  44  39  35  35  35  34  …   28   27  27   27   27   25   22\n",
       " 50  50  49  44  44  40  38  34  33  32      12   12  12   11    7  100  100\n",
       " 50  50  49  49  47  46  45  44  37  33      68   68  68   62   62   61   58\n",
       " 50  50  50  48  36  35  35  31  31  26      55   53  52   52   52   52   52\n",
       " 50  48  46  45  39  38  37  35  34  33      94   94  94   94   93   92   92"
      ]
     },
     "execution_count": 9,
     "metadata": {},
     "output_type": "execute_result"
    }
   ],
   "source": [
    "@time X = sim_paths(sp)"
   ]
  }
 ],
 "metadata": {
  "kernelspec": {
   "display_name": "Julia 0.6.0",
   "language": "julia",
   "name": "julia-0.6"
  },
  "language_info": {
   "file_extension": ".jl",
   "mimetype": "application/julia",
   "name": "julia",
   "version": "0.6.0"
  }
 },
 "nbformat": 4,
 "nbformat_minor": 2
}
