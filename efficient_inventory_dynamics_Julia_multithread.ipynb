{
 "cells": [
  {
   "cell_type": "markdown",
   "metadata": {},
   "source": [
    "## Simulation in the Inventory Model ( Julia )"
   ]
  },
  {
   "cell_type": "markdown",
   "metadata": {},
   "source": [
    "This code simulates the inventory of a firm many times.\n",
    "\n",
    "It generates a matrix with `num_paths` rows and `sim_length` columns.\n",
    "\n",
    "One simulation of inventory dynamics corresponds to one row.  \n",
    "\n",
    "The question is: how well does naive parallelization work?"
   ]
  },
  {
   "cell_type": "code",
   "execution_count": 1,
   "metadata": {},
   "outputs": [
    {
     "data": {
      "text/plain": [
       "4"
      ]
     },
     "execution_count": 1,
     "metadata": {},
     "output_type": "execute_result"
    }
   ],
   "source": [
    "using Distributions\n",
    "\n",
    "Threads.nthreads()"
   ]
  },
  {
   "cell_type": "code",
   "execution_count": 2,
   "metadata": {},
   "outputs": [
    {
     "data": {
      "text/plain": [
       "SP"
      ]
     },
     "execution_count": 2,
     "metadata": {},
     "output_type": "execute_result"
    }
   ],
   "source": [
    "mutable struct SP\n",
    "    s::Float64\n",
    "    S::Float64\n",
    "    p::Float64\n",
    "end\n",
    "\n",
    "\n",
    "function SP()\n",
    "    \n",
    "    s = 10.0\n",
    "    S = 100.0\n",
    "    p = 0.4\n",
    "    SP(s, S, p)   \n",
    "end"
   ]
  },
  {
   "cell_type": "markdown",
   "metadata": {},
   "source": [
    "## Sequential:"
   ]
  },
  {
   "cell_type": "code",
   "execution_count": 3,
   "metadata": {},
   "outputs": [
    {
     "data": {
      "text/plain": [
       "sim_paths (generic function with 1 method)"
      ]
     },
     "execution_count": 3,
     "metadata": {},
     "output_type": "execute_result"
    }
   ],
   "source": [
    "function sim_paths(sp::SP;initial_x=50.0, num_paths=100000,sim_length=400)\n",
    "    \n",
    "    X = Array{Int32}(num_paths,sim_length)\n",
    "    X[:, 1] = initial_x\n",
    "    \n",
    "    # For each row\n",
    "    for i = 1:num_paths\n",
    "        \n",
    "        dvals = rand(Geometric(sp.p),sim_length)\n",
    "        for t = 1:sim_length-1\n",
    "            x, d = X[i, t], dvals[t]\n",
    "            if x <= sp.s\n",
    "                y = max(sp.S - d, 0)\n",
    "            else\n",
    "                y = max(x - d, 0)\n",
    "            end\n",
    "            \n",
    "            X[i, t+1] = y\n",
    "            \n",
    "            end\n",
    "        end\n",
    "       return X\n",
    "    \n",
    "end"
   ]
  },
  {
   "cell_type": "code",
   "execution_count": 4,
   "metadata": {
    "collapsed": true
   },
   "outputs": [],
   "source": [
    "sp = SP();"
   ]
  },
  {
   "cell_type": "markdown",
   "metadata": {},
   "source": [
    "compilation time:"
   ]
  },
  {
   "cell_type": "code",
   "execution_count": 5,
   "metadata": {},
   "outputs": [
    {
     "name": "stdout",
     "output_type": "stream",
     "text": [
      "  5.165953 seconds (40.49 M allocations: 1.062 GiB, 8.72% gc time)\n"
     ]
    }
   ],
   "source": [
    "@time X = sim_paths(sp);"
   ]
  },
  {
   "cell_type": "markdown",
   "metadata": {},
   "source": [
    "running time:"
   ]
  },
  {
   "cell_type": "code",
   "execution_count": 6,
   "metadata": {},
   "outputs": [
    {
     "name": "stdout",
     "output_type": "stream",
     "text": [
      "  4.235954 seconds (40.46 M allocations: 1.060 GiB, 6.61% gc time)\n"
     ]
    },
    {
     "data": {
      "text/plain": [
       "100000×400 Array{Int32,2}:\n",
       " 50  49  48  47  47  46  43  42  41  …  14  13  11   9  100  92  90  89  89\n",
       " 50  49  47  46  43  42  42  42  42     97  97  97  96   94  93  90  88  86\n",
       " 50  50  48  48  44  43  42  42  41     39  36  35  34   30  30  30  28  28\n",
       " 50  50  50  49  46  46  41  41  40     33  31  31  28   27  25  24  24  24\n",
       " 50  46  44  44  44  43  43  42  42     25  25  23  21   21  20  19  19  19\n",
       " 50  48  47  45  42  39  37  36  36  …  84  84  83  83   82  80  80  75  73\n",
       " 50  41  40  38  38  38  38  36  36     12   9  96  96   95  95  93  91  89\n",
       " 50  48  44  44  41  40  40  40  37     34  34  34  32   31  29  20  17  16\n",
       " 50  50  49  48  48  40  38  33  33     96  96  91  89   84  84  83  82  81\n",
       " 50  50  50  50  50  50  44  42  36     97  97  96  94   93  92  92  92  91\n",
       " 50  49  49  46  44  43  43  43  41  …  74  73  70  69   68  64  63  63  62\n",
       " 50  50  49  48  48  47  45  44  43     65  65  63  63   60  58  58  57  57\n",
       " 50  47  47  45  43  39  33  33  32     21  19  16  10  100  99  98  95  94\n",
       "  ⋮                   ⋮              ⋱                    ⋮                \n",
       " 50  46  41  41  41  39  39  39  36     50  49  45  45   44  41  41  40  40\n",
       " 50  48  45  45  44  38  38  37  34     88  87  86  86   85  85  85  80  79\n",
       " 50  49  49  48  48  48  44  40  40  …  39  38  36  36   35  35  31  27  19\n",
       " 50  47  44  42  42  39  34  33  33     24  23  23  22   22  16  15  15  15\n",
       " 50  46  46  44  44  43  41  40  40     45  44  41  38   37  32  31  28  26\n",
       " 50  38  37  37  36  36  36  35  31     62  62  60  59   59  56  56  56  52\n",
       " 50  47  43  41  40  40  33  26  24     64  64  59  59   59  59  59  56  56\n",
       " 50  47  46  44  43  43  43  43  42  …  34  34  33  25   24  23  20  19  18\n",
       " 50  50  49  49  49  47  47  46  46     36  35  35  35   35  35  35  35  23\n",
       " 50  48  48  47  47  47  47  42  39     53  53  47  47   45  44  41  41  35\n",
       " 50  50  50  50  50  49  49  48  48     78  76  76  74   68  68  66  66  66\n",
       " 50  50  44  44  43  43  42  41  37     40  38  38  36   36  36  35  35  35"
      ]
     },
     "execution_count": 6,
     "metadata": {},
     "output_type": "execute_result"
    }
   ],
   "source": [
    "@time X = sim_paths(sp)"
   ]
  },
  {
   "cell_type": "markdown",
   "metadata": {},
   "source": [
    "## Parallel:"
   ]
  },
  {
   "cell_type": "code",
   "execution_count": 7,
   "metadata": {},
   "outputs": [
    {
     "data": {
      "text/plain": [
       "sim_paths (generic function with 1 method)"
      ]
     },
     "execution_count": 7,
     "metadata": {},
     "output_type": "execute_result"
    }
   ],
   "source": [
    "function sim_paths(sp::SP;initial_x=50.0, \n",
    "                                num_paths=100000, sim_length=400)\n",
    "    \n",
    "    X = SharedArray{Int32}(num_paths,sim_length)\n",
    "    X[:, 1] = initial_x\n",
    "    \n",
    "    # For each row\n",
    "    Threads.@threads for i=1:num_paths\n",
    "        dvals = rand(Geometric(sp.p),sim_length)\n",
    "        \n",
    "        for t=1:sim_length-1\n",
    "            x, d = X[i, t], dvals[t]\n",
    "            \n",
    "            if x <= sp.s\n",
    "                y = max(sp.S - d, 0)\n",
    "            else\n",
    "                y = max(x - d, 0)\n",
    "            end\n",
    "        \n",
    "            X[i, t+1] = y\n",
    "            \n",
    "        end\n",
    "    end\n",
    "    \n",
    "    return X  \n",
    "end"
   ]
  },
  {
   "cell_type": "markdown",
   "metadata": {},
   "source": [
    "compilation time:"
   ]
  },
  {
   "cell_type": "code",
   "execution_count": 8,
   "metadata": {},
   "outputs": [
    {
     "name": "stdout",
     "output_type": "stream",
     "text": [
      "  6.034088 seconds (30.64 M allocations: 735.131 MiB, 2.89% gc time)\n"
     ]
    }
   ],
   "source": [
    "@time X = sim_paths(sp);"
   ]
  },
  {
   "cell_type": "markdown",
   "metadata": {},
   "source": [
    "running time:"
   ]
  },
  {
   "cell_type": "code",
   "execution_count": 9,
   "metadata": {},
   "outputs": [
    {
     "name": "stdout",
     "output_type": "stream",
     "text": [
      "  2.916295 seconds (28.52 M allocations: 654.490 MiB, 10.18% gc time)\n"
     ]
    },
    {
     "data": {
      "text/plain": [
       "100000×400 SharedArray{Int32,2}:\n",
       " 50  50  47  46  40  40  38  38  38  …  36  33  33  33  31  30  30  29   29\n",
       " 50  48  48  46  41  37  37  37  33     50  46  45  39  38  36  33  33   33\n",
       " 50  47  46  46  40  34  30  30  26     55  55  55  54  54  51  46  45   44\n",
       " 50  49  48  47  47  47  47  47  44     85  84  83  83  78  76  76  76   72\n",
       " 50  50  46  46  43  43  43  43  40     66  66  65  64  64  64  64  64   63\n",
       " 50  45  45  45  45  45  41  41  41  …  54  52  52  47  46  41  39  39   39\n",
       " 50  50  50  43  42  41  35  35  35     82  81  81  77  77  76  76  70   70\n",
       " 50  50  45  41  41  39  39  39  38     45  45  45  42  42  42  42  37   33\n",
       " 50  45  45  45  44  44  43  41  39     58  58  58  56  55  55  55  53   53\n",
       " 50  50  49  48  46  42  41  36  31     17  16  16  16  16  13  12  12   11\n",
       " 50  49  47  46  45  45  43  42  42  …  39  39  39  37  37  33  32  32   30\n",
       " 50  50  49  43  40  40  39  37  37     53  53  53  50  48  46  46  44   41\n",
       " 50  49  42  36  36  36  36  36  34     54  54  46  44  44  40  32  32   32\n",
       "  ⋮                   ⋮              ⋱                   ⋮                 \n",
       " 50  49  49  48  47  46  44  42  42     20  20  20  19  17  17  15  13   10\n",
       " 50  49  45  43  40  39  37  37  36     35  35  31  28  28  28  27  26   26\n",
       " 50  48  48  48  45  45  41  41  39  …  15  13  13  13  13  13  13  13   13\n",
       " 50  50  49  49  49  48  46  43  42     20  20  20  17  15  14  11  10  100\n",
       " 50  50  48  46  45  37  37  36  36     63  63  63  60  59  58  58  56   52\n",
       " 50  50  50  49  49  49  46  45  43     95  95  95  94  94  92  92  92   90\n",
       " 50  50  50  48  47  46  45  45  45     44  41  37  37  37  34  33  31   31\n",
       " 50  49  49  47  47  46  42  41  41  …  59  58  58  58  54  53  53  50   47\n",
       " 50  50  45  42  42  41  41  36  36     54  54  50  50  48  46  43  43   43\n",
       " 50  50  49  49  49  48  42  42  41     80  80  77  77  77  77  77  77   77\n",
       " 50  50  49  48  47  47  46  43  42     45  43  41  41  40  40  40  39   39\n",
       " 50  49  48  46  46  46  41  41  40     76  76  75  73  72  69  68  67   67"
      ]
     },
     "execution_count": 9,
     "metadata": {},
     "output_type": "execute_result"
    }
   ],
   "source": [
    "@time X = sim_paths(sp)"
   ]
  }
 ],
 "metadata": {
  "kernelspec": {
   "display_name": "Julia 0.6.0",
   "language": "julia",
   "name": "julia-0.6"
  },
  "language_info": {
   "file_extension": ".jl",
   "mimetype": "application/julia",
   "name": "julia",
   "version": "0.6.0"
  }
 },
 "nbformat": 4,
 "nbformat_minor": 2
}
