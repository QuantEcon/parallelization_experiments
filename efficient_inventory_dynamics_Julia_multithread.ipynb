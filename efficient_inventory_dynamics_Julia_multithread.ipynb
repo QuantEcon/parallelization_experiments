{
 "cells": [
  {
   "cell_type": "markdown",
   "metadata": {},
   "source": [
    "## Simulation in the Inventory Model ( Julia )"
   ]
  },
  {
   "cell_type": "markdown",
   "metadata": {},
   "source": [
    "This code simulates the inventory of a firm many times.\n",
    "\n",
    "It generates a matrix with `num_paths` rows and `sim_length` columns.\n",
    "\n",
    "One simulation of inventory dynamics corresponds to one row.  \n",
    "\n",
    "The question is: how well does naive parallelization work?"
   ]
  },
  {
   "cell_type": "code",
   "execution_count": 1,
   "metadata": {},
   "outputs": [
    {
     "data": {
      "text/plain": [
       "4"
      ]
     },
     "execution_count": 1,
     "metadata": {},
     "output_type": "execute_result"
    }
   ],
   "source": [
    "using Distributions\n",
    "\n",
    "Threads.nthreads()"
   ]
  },
  {
   "cell_type": "code",
   "execution_count": 2,
   "metadata": {},
   "outputs": [
    {
     "data": {
      "text/plain": [
       "SP"
      ]
     },
     "execution_count": 2,
     "metadata": {},
     "output_type": "execute_result"
    }
   ],
   "source": [
    "mutable struct SP\n",
    "    s::Float64\n",
    "    S::Float64\n",
    "    p::Float64\n",
    "end\n",
    "\n",
    "\n",
    "function SP()\n",
    "    \n",
    "    s = 10.0\n",
    "    S = 100.0\n",
    "    p = 0.4\n",
    "    SP(s, S, p)   \n",
    "end"
   ]
  },
  {
   "cell_type": "markdown",
   "metadata": {},
   "source": [
    "## Sequential:"
   ]
  },
  {
   "cell_type": "code",
   "execution_count": 3,
   "metadata": {},
   "outputs": [
    {
     "data": {
      "text/plain": [
       "sim_paths (generic function with 1 method)"
      ]
     },
     "execution_count": 3,
     "metadata": {},
     "output_type": "execute_result"
    }
   ],
   "source": [
    "function sim_paths(sp::SP;initial_x=50.0, num_paths=100000,sim_length=400)\n",
    "    \n",
    "    X = Array{Int32}(num_paths,sim_length)\n",
    "    X[:, 1] = initial_x\n",
    "    \n",
    "    # For each row\n",
    "    for i = 1:num_paths\n",
    "        \n",
    "        dvals = rand(Geometric(sp.p),sim_length)\n",
    "        for t = 1:sim_length-1\n",
    "            x, d = X[i, t], dvals[t]\n",
    "            if x <= sp.s\n",
    "                y = max(sp.S - d, 0)\n",
    "            else\n",
    "                y = max(x - d, 0)\n",
    "            end\n",
    "            \n",
    "            X[i, t+1] = y\n",
    "            \n",
    "            end\n",
    "        end\n",
    "       return X\n",
    "    \n",
    "end"
   ]
  },
  {
   "cell_type": "code",
   "execution_count": 4,
   "metadata": {
    "collapsed": true
   },
   "outputs": [],
   "source": [
    "sp = SP();"
   ]
  },
  {
   "cell_type": "markdown",
   "metadata": {},
   "source": [
    "compilation time:"
   ]
  },
  {
   "cell_type": "code",
   "execution_count": 5,
   "metadata": {},
   "outputs": [
    {
     "name": "stdout",
     "output_type": "stream",
     "text": [
      "  2.367446 seconds (40.49 M allocations: 1.062 GiB, 9.70% gc time)\n"
     ]
    }
   ],
   "source": [
    "@time X = sim_paths(sp);"
   ]
  },
  {
   "cell_type": "markdown",
   "metadata": {},
   "source": [
    "running time:"
   ]
  },
  {
   "cell_type": "code",
   "execution_count": 6,
   "metadata": {},
   "outputs": [
    {
     "name": "stdout",
     "output_type": "stream",
     "text": [
      "  2.238412 seconds (40.46 M allocations: 1.060 GiB, 7.33% gc time)\n"
     ]
    },
    {
     "data": {
      "text/plain": [
       "100000×400 Array{Int32,2}:\n",
       " 50  50  49  48  47  46  45  44  44  44  …  59   56  56  56  56  55  55  55\n",
       " 50  49  47  41  41  39  39  39  38  35     34   34  34  31  31  30  28  24\n",
       " 50  49  48  46  46  43  43  43  42  39     99   99  99  99  99  99  98  97\n",
       " 50  50  49  49  49  48  48  48  48  48     14   14  14  13  13  12  11  11\n",
       " 50  50  45  45  43  41  41  41  41  41     76   75  73  73  69  68  68  67\n",
       " 50  49  47  46  45  45  42  41  41  41  …  10   99  92  91  91  89  87  87\n",
       " 50  50  50  50  50  48  46  46  46  40     97   96  96  93  93  87  84  84\n",
       " 50  49  45  45  45  45  45  41  39  39     83   82  78  77  77  76  69  69\n",
       " 50  50  48  48  47  47  47  47  47  46     90   86  86  86  82  81  79  77\n",
       " 50  50  50  50  46  45  44  40  40  40     15   10  98  98  98  96  96  96\n",
       " 50  48  48  45  45  42  41  38  38  31  …  45   43  42  42  37  37  35  34\n",
       " 50  48  48  48  47  44  43  43  43  43     36   35  34  34  32  32  32  30\n",
       " 50  48  41  41  40  40  39  34  34  34     63   63  61  60  60  58  55  55\n",
       "  ⋮                   ⋮                  ⋱                ⋮                \n",
       " 50  48  46  46  46  43  43  43  40  38     67   67  66  65  65  64  63  58\n",
       " 50  49  49  49  49  49  44  43  43  42     80   80  77  77  73  73  71  71\n",
       " 50  47  47  46  45  41  41  39  39  39  …   9  100  99  99  97  96  96  96\n",
       " 50  45  43  42  42  41  41  41  41  39     73   73  69  66  66  66  60  57\n",
       " 50  46  43  43  43  42  42  42  42  42     27   25  23  23  23  21  21  18\n",
       " 50  50  49  45  44  36  32  32  30  30     87   87  82  82  82  82  82  79\n",
       " 50  50  50  49  48  47  47  46  46  45     30   29  28  25  21  18  14  14\n",
       " 50  49  49  49  48  47  45  39  36  34  …  29   23  17  14  13  13  13   9\n",
       " 50  46  46  46  45  44  44  40  40  36     41   38  37  37  36  33  31  31\n",
       " 50  50  49  47  47  46  46  44  40  40      8   99  93  92  83  82  82  82\n",
       " 50  47  45  44  43  42  41  41  40  40     31   27  27  24  24  20  16  16\n",
       " 50  50  49  49  49  49  46  46  46  45     96   96  93  93  89  84  83  83"
      ]
     },
     "execution_count": 6,
     "metadata": {},
     "output_type": "execute_result"
    }
   ],
   "source": [
    "@time X = sim_paths(sp)"
   ]
  },
  {
   "cell_type": "markdown",
   "metadata": {},
   "source": [
    "## Parallel:"
   ]
  },
  {
   "cell_type": "code",
   "execution_count": 7,
   "metadata": {},
   "outputs": [
    {
     "data": {
      "text/plain": [
       "sim_paths (generic function with 1 method)"
      ]
     },
     "execution_count": 7,
     "metadata": {},
     "output_type": "execute_result"
    }
   ],
   "source": [
    "function sim_paths(sp::SP;initial_x=50.0, \n",
    "                                num_paths=100000, sim_length=400)\n",
    "    \n",
    "    X = SharedArray{Int32}(num_paths,sim_length)\n",
    "    X[:, 1] = initial_x\n",
    "    \n",
    "    # For each row\n",
    "    Threads.@threads for i=1:num_paths\n",
    "        dvals = rand(Geometric(sp.p),sim_length)\n",
    "        \n",
    "        for t=1:sim_length-1\n",
    "            x, d = X[i, t], dvals[t]\n",
    "            \n",
    "            if x <= sp.s\n",
    "                y = max(sp.S - d, 0)\n",
    "            else\n",
    "                y = max(x - d, 0)\n",
    "            end\n",
    "        \n",
    "            X[i, t+1] = y\n",
    "            \n",
    "        end\n",
    "    end\n",
    "    \n",
    "    return X  \n",
    "end"
   ]
  },
  {
   "cell_type": "markdown",
   "metadata": {},
   "source": [
    "compilation time:"
   ]
  },
  {
   "cell_type": "code",
   "execution_count": 8,
   "metadata": {},
   "outputs": [
    {
     "name": "stdout",
     "output_type": "stream",
     "text": [
      "  2.637535 seconds (23.78 M allocations: 593.046 MiB, 2.66% gc time)\n"
     ]
    }
   ],
   "source": [
    "@time X = sim_paths(sp);"
   ]
  },
  {
   "cell_type": "markdown",
   "metadata": {},
   "source": [
    "running time:"
   ]
  },
  {
   "cell_type": "code",
   "execution_count": 9,
   "metadata": {},
   "outputs": [
    {
     "name": "stdout",
     "output_type": "stream",
     "text": [
      "  1.257406 seconds (22.57 M allocations: 528.922 MiB, 2.50% gc time)\n"
     ]
    },
    {
     "data": {
      "text/plain": [
       "100000×400 SharedArray{Int32,2}:\n",
       " 50  49  45  45  45  43  42  39  39  …  55  52  51  50  50  50  45  40  33\n",
       " 50  48  48  47  47  41  41  41  41     18  15  14  13  13  11  11  10  96\n",
       " 50  50  47  45  45  45  41  41  41     98  97  95  95  95  93  90  90  89\n",
       " 50  49  48  46  46  45  43  40  40     99  96  93  91  91  91  91  91  91\n",
       " 50  46  44  41  40  40  40  40  40     39  38  37  27  25  22  16  16  16\n",
       " 50  47  42  39  35  33  33  33  27  …  20  20  20  20  18  18  18  17  15\n",
       " 50  48  46  46  46  46  46  46  45     16  16  16  16  16  16  15  13  11\n",
       " 50  49  48  46  46  41  41  36  35     95  90  89  89  87  85  85  84  83\n",
       " 50  50  50  50  49  48  45  41  39     14  14  13  12  11  10  96  96  94\n",
       " 50  49  45  45  41  37  34  32  30     75  70  70  69  66  61  61  60  60\n",
       " 50  50  49  49  49  49  49  46  46  …  49  49  49  47  38  37  34  34  33\n",
       " 50  49  49  49  49  47  36  36  33     60  59  59  59  52  50  48  46  43\n",
       " 50  50  49  48  48  46  44  43  43     92  83  80  78  75  74  74  71  71\n",
       "  ⋮                   ⋮              ⋱                   ⋮                \n",
       " 50  49  47  46  44  43  43  41  40     14  13  11   9  98  96  94  94  92\n",
       " 50  50  50  48  47  46  43  40  40     32  32  31  30  25  25  25  22  22\n",
       " 50  48  44  44  40  40  39  39  35  …  26  25  22  21  15  12  12  11   7\n",
       " 50  49  44  42  38  37  37  36  31     38  37  36  36  35  29  28  28  27\n",
       " 50  50  49  48  47  45  43  42  39     17  17  17  16  16  16  16  14  14\n",
       " 50  50  50  49  45  42  37  32  30     88  86  85  85  85  85  85  81  81\n",
       " 50  48  48  46  46  46  46  46  42     95  95  94  91  90  90  89  89  88\n",
       " 50  50  50  49  48  48  46  45  44  …  31  31  30  30  30  29  28  27  27\n",
       " 50  50  42  42  39  36  36  32  27     67  66  63  63  60  60  58  58  56\n",
       " 50  50  50  50  49  46  46  46  40     46  45  45  45  43  41  41  39  37\n",
       " 50  50  49  43  43  41  41  41  40     47  47  45  44  42  40  39  35  34\n",
       " 50  49  49  47  46  46  45  42  39     47  47  47  47  47  47  47  45  43"
      ]
     },
     "execution_count": 9,
     "metadata": {},
     "output_type": "execute_result"
    }
   ],
   "source": [
    "@time X = sim_paths(sp)"
   ]
  }
 ],
 "metadata": {
  "kernelspec": {
   "display_name": "Julia 0.6.0",
   "language": "julia",
   "name": "julia-0.6"
  },
  "language_info": {
   "file_extension": ".jl",
   "mimetype": "application/julia",
   "name": "julia",
   "version": "0.6.0"
  }
 },
 "nbformat": 4,
 "nbformat_minor": 2
}
