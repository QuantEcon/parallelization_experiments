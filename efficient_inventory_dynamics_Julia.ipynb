{
 "cells": [
  {
   "cell_type": "markdown",
   "metadata": {},
   "source": [
    "## Simulation in the Inventory Model ( Julia )"
   ]
  },
  {
   "cell_type": "markdown",
   "metadata": {},
   "source": [
    "This code simulates the inventory of a firm many times.\n",
    "\n",
    "It generates a matrix with `num_paths` rows and `sim_length` columns.\n",
    "\n",
    "One simulation of inventory dynamics corresponds to one row.  \n",
    "\n",
    "The question is: how well does naive parallelization work?"
   ]
  },
  {
   "cell_type": "code",
   "execution_count": 1,
   "metadata": {
    "collapsed": true
   },
   "outputs": [],
   "source": [
    "addprocs(3)\n",
    "@everywhere using Distributions"
   ]
  },
  {
   "cell_type": "code",
   "execution_count": 2,
   "metadata": {
    "collapsed": true
   },
   "outputs": [],
   "source": [
    "@everywhere mutable struct SP\n",
    "    s::Float64\n",
    "    S::Float64\n",
    "    p::Float64\n",
    "end\n",
    "\n",
    "\n",
    "@everywhere function SP()\n",
    "    \n",
    "    s = 10.0\n",
    "    S = 100.0\n",
    "    p = 0.4\n",
    "    SP(s, S, p)   \n",
    "end"
   ]
  },
  {
   "cell_type": "markdown",
   "metadata": {},
   "source": [
    "## Sequential:"
   ]
  },
  {
   "cell_type": "code",
   "execution_count": 3,
   "metadata": {},
   "outputs": [
    {
     "data": {
      "text/plain": [
       "sim_paths (generic function with 1 method)"
      ]
     },
     "execution_count": 3,
     "metadata": {},
     "output_type": "execute_result"
    }
   ],
   "source": [
    "function sim_paths(sp::SP;initial_x=50.0, num_paths=100000,sim_length=400)\n",
    "    \n",
    "    X = Array{Int32}(num_paths,sim_length)\n",
    "    X[:, 1] = initial_x\n",
    "    \n",
    "    # For each row\n",
    "    for i = 1:num_paths\n",
    "        \n",
    "        dvals = rand(Geometric(sp.p),sim_length)\n",
    "        for t = 1:sim_length-1\n",
    "            x, d = X[i, t], dvals[t]\n",
    "            if x <= sp.s\n",
    "                y = max(sp.S - d, 0)\n",
    "            else\n",
    "                y = max(x - d, 0)\n",
    "            end\n",
    "            \n",
    "            X[i, t+1] = y\n",
    "            \n",
    "            end\n",
    "        end\n",
    "       return X\n",
    "    \n",
    "end"
   ]
  },
  {
   "cell_type": "code",
   "execution_count": 4,
   "metadata": {
    "collapsed": true
   },
   "outputs": [],
   "source": [
    "sp = SP();"
   ]
  },
  {
   "cell_type": "markdown",
   "metadata": {},
   "source": [
    "compilation time:"
   ]
  },
  {
   "cell_type": "code",
   "execution_count": 5,
   "metadata": {},
   "outputs": [
    {
     "name": "stdout",
     "output_type": "stream",
     "text": [
      "  3.904120 seconds (40.49 M allocations: 1.062 GiB, 9.07% gc time)\n"
     ]
    }
   ],
   "source": [
    "@time X = sim_paths(sp);"
   ]
  },
  {
   "cell_type": "markdown",
   "metadata": {},
   "source": [
    "running time:"
   ]
  },
  {
   "cell_type": "code",
   "execution_count": 6,
   "metadata": {},
   "outputs": [
    {
     "name": "stdout",
     "output_type": "stream",
     "text": [
      "  3.541251 seconds (40.46 M allocations: 1.060 GiB, 6.86% gc time)\n"
     ]
    },
    {
     "data": {
      "text/plain": [
       "100000×400 Array{Int32,2}:\n",
       " 50  44  43  41  37  37  35  35  34  …  25  25  25  25  25  25  25  19  19\n",
       " 50  50  47  47  46  45  45  45  43     20  18  18  18  18  16  16  15  15\n",
       " 50  47  47  44  44  44  39  38  38     25  22  18  17  16  15  14  11   9\n",
       " 50  49  45  42  40  40  34  33  33     95  95  95  95  95  94  92  92  91\n",
       " 50  43  40  33  33  33  31  23  22     53  52  51  50  49  45  45  38  38\n",
       " 50  47  45  44  43  41  40  40  39  …  55  50  47  46  46  43  42  42  41\n",
       " 50  49  49  46  44  40  38  37  21     25  23  23  22  22  20  20  19  18\n",
       " 50  49  46  45  43  40  40  38  38     69  68  66  59  55  54  54  51  50\n",
       " 50  46  44  42  41  41  41  40  36     66  65  62  59  57  51  44  43  43\n",
       " 50  45  44  43  42  38  34  27  27     18  18  16  16  15  15  14  14  11\n",
       " 50  49  47  46  46  45  45  45  44  …  16  14  13   6  97  89  89  89  87\n",
       " 50  50  50  50  50  49  49  49  47     43  41  34  33  33  33  33  30  28\n",
       " 50  46  33  33  32  31  31  27  27     77  77  76  76  76  75  75  75  75\n",
       "  ⋮                   ⋮              ⋱                   ⋮                \n",
       " 50  48  39  39  38  37  37  35  35     40  36  36  35  34  34  30  29  28\n",
       " 50  49  49  47  40  40  39  37  36      8  99  99  95  94  91  90  84  84\n",
       " 50  49  47  44  43  43  40  37  37  …  30  27  25  23  23  23  22  22  21\n",
       " 50  50  48  40  38  36  35  33  30     83  82  81  81  75  74  73  73  72\n",
       " 50  45  43  43  43  40  38  37  37     88  87  80  80  80  80  79  78  77\n",
       " 50  44  42  38  33  30  27  26  24     45  43  43  43  43  42  41  37  35\n",
       " 50  50  45  41  38  37  36  36  34     42  42  42  42  39  35  32  32  31\n",
       " 50  49  49  46  44  42  40  39  39  …  97  97  96  96  96  93  91  88  87\n",
       " 50  46  40  38  36  36  36  33  32     84  83  78  78  76  69  69  69  69\n",
       " 50  50  49  45  44  43  42  41  40     55  54  54  53  51  50  46  46  46\n",
       " 50  50  50  50  47  43  43  43  39     16  15  13   6  97  95  95  95  92\n",
       " 50  50  49  48  48  48  46  46  45     22  17  17  17  11  10  98  98  98"
      ]
     },
     "execution_count": 6,
     "metadata": {},
     "output_type": "execute_result"
    }
   ],
   "source": [
    "@time X = sim_paths(sp)"
   ]
  },
  {
   "cell_type": "markdown",
   "metadata": {},
   "source": [
    "## Parallel:"
   ]
  },
  {
   "cell_type": "code",
   "execution_count": 7,
   "metadata": {
    "collapsed": true
   },
   "outputs": [],
   "source": [
    "@everywhere function sim_paths(sp::SP;initial_x=50.0, \n",
    "                                num_paths=100000, sim_length=400)\n",
    "    \n",
    "    X = SharedArray{Int32}(num_paths,sim_length)\n",
    "    X[:, 1] = initial_x\n",
    "    \n",
    "    # For each row\n",
    "    @sync @parallel for i=1:num_paths\n",
    "        dvals = rand(Geometric(sp.p),sim_length)\n",
    "        \n",
    "        for t=1:sim_length-1\n",
    "            x, d = X[i, t], dvals[t]\n",
    "            \n",
    "            if x <= sp.s\n",
    "                y = max(sp.S - d, 0)\n",
    "            else\n",
    "                y = max(x - d, 0)\n",
    "            end\n",
    "        \n",
    "            X[i, t+1] = y\n",
    "            \n",
    "        end\n",
    "    end\n",
    "    \n",
    "    return X  \n",
    "end"
   ]
  },
  {
   "cell_type": "markdown",
   "metadata": {},
   "source": [
    "compilation time:"
   ]
  },
  {
   "cell_type": "code",
   "execution_count": 8,
   "metadata": {},
   "outputs": [
    {
     "name": "stdout",
     "output_type": "stream",
     "text": [
      "  7.476439 seconds (1.33 M allocations: 74.709 MiB, 0.55% gc time)\n"
     ]
    }
   ],
   "source": [
    "@time X = sim_paths(sp);"
   ]
  },
  {
   "cell_type": "markdown",
   "metadata": {},
   "source": [
    "running time:"
   ]
  },
  {
   "cell_type": "code",
   "execution_count": 9,
   "metadata": {},
   "outputs": [
    {
     "name": "stdout",
     "output_type": "stream",
     "text": [
      "  1.892505 seconds (2.49 k allocations: 126.245 KiB)\n"
     ]
    },
    {
     "data": {
      "text/plain": [
       "100000×400 SharedArray{Int32,2}:\n",
       " 50  48  48  48  45  45  43  42  40  36  …  56  54  54  53   53   53  50  49\n",
       " 50  50  47  47  43  43  43  42  42  39     34  33  28  22   22   22  20  20\n",
       " 50  47  44  42  42  42  41  41  41  37     79  77  77  76   74   72  72  72\n",
       " 50  48  47  45  44  44  41  40  37  36     14   7  95  94   94   94  91  89\n",
       " 50  48  46  46  37  36  36  36  36  35     90  90  90  90   89   87  85  85\n",
       " 50  49  46  46  43  41  33  33  29  27  …  82  79  78  78   78   77  77  77\n",
       " 50  50  50  50  50  49  46  42  42  41     36  35  32  32   30   25  24  22\n",
       " 50  48  47  46  46  43  41  41  41  39     40  37  34  21   20   20  19  19\n",
       " 50  48  46  45  44  43  43  43  43  43     64  62  62  61   60   56  54  54\n",
       " 50  50  47  46  39  39  39  39  39  39     44  41  39  39   39   38  38  33\n",
       " 50  50  50  50  50  50  46  46  41  33  …  66  66  65  65   64   64  64  61\n",
       " 50  48  46  44  44  40  39  36  32  30     34  34  32  31   31   23  19  19\n",
       " 50  50  43  40  37  37  35  35  35  35     46  45  42  42   42   42  42  35\n",
       "  ⋮                   ⋮                  ⋱               ⋮                  \n",
       " 50  38  36  35  34  32  30  29  24  20     25  25  25  25   24   24  18  18\n",
       " 50  47  47  47  44  43  41  41  41  40     91  91  91  89   89   89  89  87\n",
       " 50  50  49  49  48  47  45  41  37  33  …  96  95  94  93   88   88  87  80\n",
       " 50  49  48  48  47  47  46  44  44  42     16  15  15   6  100  100  99  99\n",
       " 50  48  47  47  47  47  42  42  42  42     55  54  51  49   47   46  46  43\n",
       " 50  50  50  45  40  36  35  35  33  31     46  46  46  41   41   41  39  39\n",
       " 50  50  48  47  45  42  41  37  37  37     74  72  72  69   68   62  57  57\n",
       " 50  47  46  45  44  42  41  36  32  32  …  71  71  70  67   66   64  64  61\n",
       " 50  49  45  41  41  40  39  38  30  30     74  74  73  69   69   69  64  61\n",
       " 50  49  47  46  41  38  38  36  36  36     42  42  42  42   41   37  37  32\n",
       " 50  49  44  43  43  42  39  38  36  32     45  45  45  43   43   43  40  34\n",
       " 50  46  46  46  43  39  39  37  35  34     95  93  91  91   91   85  83  71"
      ]
     },
     "execution_count": 9,
     "metadata": {},
     "output_type": "execute_result"
    }
   ],
   "source": [
    "@time X = sim_paths(sp)"
   ]
  }
 ],
 "metadata": {
  "kernelspec": {
   "display_name": "Julia 0.6.0",
   "language": "julia",
   "name": "julia-0.6"
  },
  "language_info": {
   "file_extension": ".jl",
   "mimetype": "application/julia",
   "name": "julia",
   "version": "0.6.0"
  }
 },
 "nbformat": 4,
 "nbformat_minor": 2
}
