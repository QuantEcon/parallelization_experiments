{
 "cells": [
  {
   "cell_type": "markdown",
   "metadata": {},
   "source": [
    "## Simulation in the Inventory Model\n",
    "\n",
    "\n",
    "#### John Stachurski"
   ]
  },
  {
   "cell_type": "markdown",
   "metadata": {},
   "source": [
    "This code simulates the inventory of a firm many times.\n",
    "\n",
    "It generates a matrix with `num_paths` rows and `sim_length` columns.\n",
    "\n",
    "One simulation of inventory dynamics corresponds to one row.  \n",
    "\n",
    "The question is: how well does naive parallelization work?"
   ]
  },
  {
   "cell_type": "code",
   "execution_count": 1,
   "metadata": {
    "collapsed": true
   },
   "outputs": [],
   "source": [
    "import numpy as np\n",
    "import numba"
   ]
  },
  {
   "cell_type": "markdown",
   "metadata": {},
   "source": [
    "Parameters:"
   ]
  },
  {
   "cell_type": "code",
   "execution_count": 2,
   "metadata": {
    "collapsed": true
   },
   "outputs": [],
   "source": [
    "s, S = 10.0, 100.0\n",
    "p = 0.4"
   ]
  },
  {
   "cell_type": "markdown",
   "metadata": {},
   "source": [
    "Jitted but not parallel"
   ]
  },
  {
   "cell_type": "code",
   "execution_count": 3,
   "metadata": {
    "collapsed": true
   },
   "outputs": [],
   "source": [
    "@numba.jit(nopython=True)\n",
    "def sim_paths_jitted(initial_x=50.0, \n",
    "                     num_paths=100000,\n",
    "                     sim_length=400):\n",
    "    \n",
    "    X = np.empty((num_paths, sim_length), dtype=np.int32)\n",
    "    X[:, 0] = initial_x\n",
    "    \n",
    "    # For each row\n",
    "    for i in range(num_paths):\n",
    "        \n",
    "        dvals = np.random.geometric(p, size=sim_length) - 1\n",
    "        \n",
    "        # Populate the row\n",
    "        for t in range(sim_length-1):\n",
    "            x, d = X[i, t], dvals[t]\n",
    "            if x <= s:\n",
    "                y = max(S - d, 0)\n",
    "            else:\n",
    "                y = max(x - d, 0)\n",
    "            X[i, t+1] = y\n",
    "\n",
    "    return X\n"
   ]
  },
  {
   "cell_type": "code",
   "execution_count": 4,
   "metadata": {},
   "outputs": [
    {
     "name": "stdout",
     "output_type": "stream",
     "text": [
      "1.65 s ± 2.6 ms per loop (mean ± std. dev. of 7 runs, 1 loop each)\n"
     ]
    }
   ],
   "source": [
    "timeit X = sim_paths_jitted()"
   ]
  },
  {
   "cell_type": "code",
   "execution_count": 5,
   "metadata": {
    "collapsed": true
   },
   "outputs": [],
   "source": [
    "@numba.jit(nopython=True, parallel=True)\n",
    "def sim_paths_jitted_parallel(initial_x=50.0, \n",
    "                             num_paths=100000,\n",
    "                             sim_length=400):\n",
    "    \n",
    "    X = np.empty((num_paths, sim_length), dtype=np.int32)\n",
    "    X[:, 0] = initial_x\n",
    "    \n",
    "    # For each row\n",
    "    for i in numba.prange(num_paths):\n",
    "        \n",
    "        dvals = np.random.geometric(p, size=sim_length) - 1\n",
    "        # Populate the row\n",
    "        for t in range(sim_length-1):\n",
    "            x, d = X[i, t], dvals[t]\n",
    "            if x <= s:\n",
    "                y = max(S - d, 0)\n",
    "            else:\n",
    "                y = max(x - d, 0)\n",
    "            X[i, t+1] = y\n",
    "            \n",
    "    return X\n"
   ]
  },
  {
   "cell_type": "code",
   "execution_count": 7,
   "metadata": {},
   "outputs": [
    {
     "name": "stdout",
     "output_type": "stream",
     "text": [
      "235 ms ± 3.35 ms per loop (mean ± std. dev. of 7 runs, 1 loop each)\n"
     ]
    }
   ],
   "source": [
    "timeit X = sim_paths_jitted_parallel()"
   ]
  },
  {
   "cell_type": "code",
   "execution_count": null,
   "metadata": {
    "collapsed": true
   },
   "outputs": [],
   "source": []
  }
 ],
 "metadata": {
  "kernelspec": {
   "display_name": "Python 3",
   "language": "python",
   "name": "python3"
  },
  "language_info": {
   "codemirror_mode": {
    "name": "ipython",
    "version": 3
   },
   "file_extension": ".py",
   "mimetype": "text/x-python",
   "name": "python",
   "nbconvert_exporter": "python",
   "pygments_lexer": "ipython3",
   "version": "3.6.3"
  }
 },
 "nbformat": 4,
 "nbformat_minor": 2
}
